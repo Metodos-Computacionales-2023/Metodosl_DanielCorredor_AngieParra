{
 "cells": [
  {
   "cell_type": "code",
   "execution_count": 52,
   "metadata": {},
   "outputs": [
    {
     "data": {
      "text/latex": [
       "$\\displaystyle a_{00} + a_{01} y + a_{10} x + a_{11} x y$"
      ],
      "text/plain": [
       "a00 + a01*y + a10*x + a11*x*y"
      ]
     },
     "execution_count": 52,
     "metadata": {},
     "output_type": "execute_result"
    }
   ],
   "source": [
    "import numpy as np\n",
    "import sympy as sp\n",
    "import matplotlib.pyplot as plt\n",
    "\n",
    "#1\n",
    "\n",
    "\n",
    "def funcion(x,y,p):\n",
    "\n",
    "    T=0\n",
    "    \n",
    "    a = np.array([[p[0],p[1]],[p[2],p[3]]]) #Matriz de coeficientes,\n",
    "\n",
    "    for i in range(2):\n",
    "        for j in range(2):\n",
    "            T+=a[i,j]*(x**i)*(y**j)\n",
    "\n",
    "    return T\n",
    "\n",
    "x= sp.symbols('x')\n",
    "y= sp.symbols('y')\n",
    "p0= sp.symbols('a00')\n",
    "p1= sp.symbols('a10')\n",
    "p2= sp.symbols('a01')\n",
    "p3= sp.symbols('a11')\n",
    "p=np.array([p0,p2,p1,p3])\n",
    "\n",
    "T=funcion(x,y,p)\n",
    "T\n",
    "\n"
   ]
  },
  {
   "cell_type": "code",
   "execution_count": 53,
   "metadata": {},
   "outputs": [
    {
     "data": {
      "text/plain": [
       "(array([ 7.85971308,  0.42292641, -0.07359224, -0.54064302,  0.01062614]), 5)"
      ]
     },
     "execution_count": 53,
     "metadata": {},
     "output_type": "execute_result"
    }
   ],
   "source": [
    "\"\"\"\n",
    "\n",
    "position = np.zeros((4,2))\n",
    "position[0,0]=1\n",
    "position[0,1]=1\n",
    "position[1,0]=-1\n",
    "position[1,1]=1\n",
    "position[2,0]=-1\n",
    "position[2,1]=-1\n",
    "position[3,0]=1\n",
    "position[3,1]=-1\n",
    "\n",
    "temperaturas=np.array([1.,2.,0.5,0.3])\n",
    "\n",
    "\n",
    "\n",
    "def funcion(x,y,p):\n",
    "\n",
    "    T=np.array([0.,0.,0.,0.],[0.,0.,0.,0.], [0.,0.,0.,0.], [0.,0.,0.,0.])\n",
    "    \n",
    "    a = np.array([[p[0],p[1]],[p[2],p[3]]]) #Matriz de coeficientes,\n",
    "\n",
    "    for i in range(2):\n",
    "        for j in range(2):\n",
    "            T[i,j]=a[i,j]*(x**i)*(y**j)\n",
    "\n",
    "    return T\n",
    "\n",
    "matrix= funcion(position[:,0],position[:,1],p)\n",
    "\n",
    "\n",
    "\"\"\"\n",
    "\n",
    "\n",
    "vector= np.array([1,2,3,4,5])\n",
    "mtriz= np.array([[0.2,0.1,1,1,0],[0.1,4,-1,1,-1],[1,-1,60,0,-2],[1,1,0,8,4],[0,-1,-2,4,700]])\n",
    "\n",
    "\n",
    "def descesoconj(A,b,xo, gamma=0.01):\n",
    "    ro= np.dot(A,xo)-b\n",
    "    po=-ro\n",
    "    k=0\n",
    "\n",
    "    while max(ro) >gamma: \n",
    "        alpha= - np.dot(ro.T,po)/np.dot(po.T,np.dot(po,A))\n",
    "        x= xo+np.dot(alpha,po)\n",
    "        ro= np.dot(A,x)-b\n",
    "        beta= np.dot(ro.T,np.dot(A,po))/np.dot(po.T,np.dot(A,po))\n",
    "        po=-ro+beta*po\n",
    "        xo=x\n",
    "        k=k+1\n",
    "    \n",
    "\n",
    "    return x,k\n",
    "\n",
    "descesoconj(mtriz,vector,np.array([1,1,1,1,1]))\n",
    "\n"
   ]
  },
  {
   "cell_type": "code",
   "execution_count": 54,
   "metadata": {},
   "outputs": [
    {
     "data": {
      "text/plain": [
       "[1e-05,\n",
       " 0.3141652653589793,\n",
       " 0.6283205307179586,\n",
       " 0.9424757960769379,\n",
       " 1.2566310614359173,\n",
       " 1.5707863267948965]"
      ]
     },
     "execution_count": 54,
     "metadata": {},
     "output_type": "execute_result"
    }
   ],
   "source": [
    "def GetF(G,r):\n",
    "    \n",
    "    n = r.shape[0]\n",
    "    \n",
    "    v = np.zeros_like(r)\n",
    "    \n",
    "    for i in range(n):\n",
    "        v[i] = G[i](*r)\n",
    "        \n",
    "    return v\n",
    "\n",
    "def GetJacobian(f,r,h=1e-6):\n",
    "    \n",
    "    n = r.shape[0]\n",
    "    \n",
    "    J = np.zeros((n,n))\n",
    "    \n",
    "    for i in range(n):\n",
    "        for j in range(n):\n",
    "            \n",
    "            rf = r.copy()\n",
    "            rb = r.copy()\n",
    "            \n",
    "            rf[j] = rf[j] + h\n",
    "            rb[j] = rb[j] - h\n",
    "            \n",
    "            J[i,j] = ( f[i](*rf) - f[i](*rb)  )/(2*h)\n",
    "            \n",
    "    \n",
    "    return J\n",
    "\n",
    "def NewtonRaphson(G,r,itmax=1000,error=1e-7):\n",
    "    \n",
    "    it = 0\n",
    "    d = 1.\n",
    "    dvector = []\n",
    "    \n",
    "    while d > error and it < itmax:\n",
    "        \n",
    "        # Vector actual\n",
    "        rc = r\n",
    "        \n",
    "        F = GetF(G,rc)\n",
    "        J = GetJacobian(G,rc)\n",
    "        InvJ = np.linalg.inv(J)\n",
    "        \n",
    "        r = rc - np.dot(InvJ,F)\n",
    "        \n",
    "        diff = r - rc\n",
    "        \n",
    "        d = np.max( np.abs(diff) )\n",
    "        \n",
    "        dvector.append(d)\n",
    "        \n",
    "        it += 1\n",
    "    \n",
    "\n",
    "    return r,dvector\n",
    "\n",
    "\n",
    "c = 729/10000\n",
    "G = np.array([lambda x: np.sin(x)*6 + c*np.sin(x)*2 -c])\n",
    "\n",
    "n = np.linspace(1e-5,(np.pi/2)-1e-5,6)\n",
    "\n",
    "r,dvector = NewtonRaphson(G,np.array([0.2999]))\n",
    "\n",
    "lista = []\n",
    "for i in n:\n",
    "    r,dvector= NewtonRaphson(G,np.array([i]))\n",
    "    if not np.any(np.isclose(lista, np.abs(r), atol=1e-6)):\n",
    "        lista.append(i)\n",
    "\n",
    "lista"
   ]
  }
 ],
 "metadata": {
  "kernelspec": {
   "display_name": "Python 3",
   "language": "python",
   "name": "python3"
  },
  "language_info": {
   "codemirror_mode": {
    "name": "ipython",
    "version": 3
   },
   "file_extension": ".py",
   "mimetype": "text/x-python",
   "name": "python",
   "nbconvert_exporter": "python",
   "pygments_lexer": "ipython3",
   "version": "3.12.0"
  }
 },
 "nbformat": 4,
 "nbformat_minor": 2
}

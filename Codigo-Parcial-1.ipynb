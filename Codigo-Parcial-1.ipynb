{
 "cells": [
  {
   "cell_type": "code",
   "execution_count": 103,
   "metadata": {},
   "outputs": [
    {
     "data": {
      "text/plain": [
       "[<matplotlib.lines.Line2D at 0x24fd09f5fd0>]"
      ]
     },
     "execution_count": 103,
     "metadata": {},
     "output_type": "execute_result"
    },
    {
     "data": {
      "image/png": "[encoded data removed]",
      "text/plain": [
       "<Figure size 640x480 with 1 Axes>"
      ]
     },
     "metadata": {},
     "output_type": "display_data"
    }
   ],
   "source": [
    "import numpy as np \n",
    "import matplotlib.pyplot as plt\n",
    "import pandas as pd\n",
    "import sympy as sym\n",
    "import os\n",
    "import os.path as path\n",
    "import wget\n",
    "\n",
    "def f(x):\n",
    "    return (np.exp(-x))-x\n",
    "\n",
    "x = np.linspace(-5,10,100)\n",
    "y = f(x)\n",
    "\n",
    "plt.axhline(y = 0)\n",
    "plt.plot(x,y)"
   ]
  },
  {
   "cell_type": "code",
   "execution_count": 104,
   "metadata": {},
   "outputs": [
    {
     "data": {
      "text/plain": [
       "-0.07275928164165718"
      ]
     },
     "execution_count": 104,
     "metadata": {},
     "output_type": "execute_result"
    }
   ],
   "source": [
    "#definimos x0 y x1 como 0 y 1 respectivamente\n",
    "# de tal manera que f(x0) = 1 y f(x1)=-0.63 y f(x0)f(x1) < 0\n",
    "\n",
    "x0 = -0.2\n",
    "x1 = 0.6\n",
    "l = f(x0)*f(x1)\n",
    "l\n"
   ]
  },
  {
   "cell_type": "code",
   "execution_count": 105,
   "metadata": {},
   "outputs": [
    {
     "data": {
      "text/plain": [
       "0.19999999999999998"
      ]
     },
     "execution_count": 105,
     "metadata": {},
     "output_type": "execute_result"
    }
   ],
   "source": [
    "x4 = (x0+x1)/2\n",
    "x4"
   ]
  },
  {
   "cell_type": "code",
   "execution_count": 106,
   "metadata": {},
   "outputs": [
    {
     "data": {
      "text/plain": [
       "-1.9913381405235993"
      ]
     },
     "execution_count": 106,
     "metadata": {},
     "output_type": "execute_result"
    }
   ],
   "source": [
    "#a = (f(x2)-2*f(x1)+f(x0))/((x1-x0)*(x2-x1))\n",
    "\n",
    "dif1= (f(x1)-f(x0))/(x1-x0)\n",
    "            \n",
    "dif2=(f(x2)-f(x1))/(x2-x1)\n",
    "            \n",
    "a= (dif2-dif1)/(x2-x0)\n",
    "b = (f(x1)-f(x0))/(x1-x0) - (x0+x1)*a\n",
    "c = f(x0) - x0*(f(x1)-f(x0))/(x1-x0) + x0*x1*a\n",
    "\n",
    "b"
   ]
  },
  {
   "cell_type": "code",
   "execution_count": 107,
   "metadata": {},
   "outputs": [
    {
     "data": {
      "text/plain": [
       "4.722088565545815"
      ]
     },
     "execution_count": 107,
     "metadata": {},
     "output_type": "execute_result"
    }
   ],
   "source": [
    "x3 = (-2*c)/(b+np.sqrt(b**2-4*a*c))\n",
    "x3"
   ]
  },
  {
   "cell_type": "code",
   "execution_count": 108,
   "metadata": {},
   "outputs": [
    {
     "name": "stderr",
     "output_type": "stream",
     "text": [
      "C:\\Users\\danie\\AppData\\Local\\Temp\\ipykernel_5680\\3406307473.py:21: RuntimeWarning: invalid value encountered in scalar power\n",
      "  x3 = (-2*c)/(b-((b**2)-(4*a*c))**(1/2))\n"
     ]
    },
    {
     "data": {
      "text/plain": [
       "nan"
      ]
     },
     "execution_count": 108,
     "metadata": {},
     "output_type": "execute_result"
    }
   ],
   "source": [
    "def newton(f,x0,x1,itmax=100,precision=1e-10):\n",
    "    \n",
    "    error = 1\n",
    "    it = 0\n",
    "    \n",
    "    while error > precision and it < itmax:\n",
    "        try:\n",
    "            x2 = (x1+x0)/2\n",
    "            \n",
    "            dif1= (f(x1)-f(x0))/(x1-x0)\n",
    "            \n",
    "            dif2=(f(x2)-f(x1))/(x2-x1)\n",
    "            \n",
    "            a= (dif2-dif1)/(x2-x0)\n",
    "            #a = (f(x2)-2*f(x1)+f(x0))/((x1-x0)*(x2-x1))\n",
    "            #a = ((x1-x0)*(f(x2)-f(x1))+(x2-x1)*(f(0)-f(1)))/((x2-x1)*(x1-x0)*(x2-x0))\n",
    "            b = dif1 - (x0+x1)*a\n",
    "            c = f(x0) - x0*dif1 + x0*x1*a\n",
    "            \n",
    "            if b<0:\n",
    "                x3 = (-2*c)/(b-((b**2)-(4*a*c))**(1/2))   \n",
    "            elif b>=0: \n",
    "                x3 = (-2*c)/(b-((b**2)+(4*a*c))**(1/2))   \n",
    "\n",
    "            error = np.abs(f(x3))\n",
    "            \n",
    "        except ZeroDivisionError:\n",
    "            print('Division por cero')\n",
    "        \n",
    "    \n",
    "        x0 = x1\n",
    "        x1 = x2\n",
    "        x2 = x3\n",
    "\n",
    "        it += 1\n",
    "    \n",
    "    return x3\n",
    "\n",
    "newton(f,x0,x1)"
   ]
  }
 ],
 "metadata": {
  "kernelspec": {
   "display_name": "Python 3",
   "language": "python",
   "name": "python3"
  },
  "language_info": {
   "codemirror_mode": {
    "name": "ipython",
    "version": 3
   },
   "file_extension": ".py",
   "mimetype": "text/x-python",
   "name": "python",
   "nbconvert_exporter": "python",
   "pygments_lexer": "ipython3",
   "version": "3.11.3"
  },
  "orig_nbformat": 4
 },
 "nbformat": 4,
 "nbformat_minor": 2
}

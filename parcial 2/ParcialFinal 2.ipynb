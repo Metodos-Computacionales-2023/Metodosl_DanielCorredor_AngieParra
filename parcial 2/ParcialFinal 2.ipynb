{
 "cells": [
  {
   "cell_type": "code",
   "execution_count": 60,
   "metadata": {},
   "outputs": [],
   "source": [
    "import numpy as np \n",
    "import matplotlib.pyplot as plt\n",
    "import sympy as sym\n",
    "import math\n",
    "sym.init_printing(use_unicode=True)\n"
   ]
  },
  {
   "cell_type": "markdown",
   "metadata": {},
   "source": [
    "Punto 23"
   ]
  },
  {
   "cell_type": "code",
   "execution_count": 50,
   "metadata": {},
   "outputs": [],
   "source": [
    "# Para el numerador usamos legendre\n",
    "raices, pesos = np.polynomial.legendre.leggauss(20)\n",
    "\n",
    "# Para el denominador usamos laguerre\n",
    "raicesL,pesosL = np.polynomial.laguerre.laggauss(20)"
   ]
  },
  {
   "cell_type": "code",
   "execution_count": 51,
   "metadata": {},
   "outputs": [],
   "source": [
    "#limites\n",
    "h = 6.626e-34\n",
    "k = 1.3806e-23\n",
    "c = 3e8\n",
    "t = 5772\n",
    "lam1 = 100e-9\n",
    "lam2 = 400e-9\n",
    "\n",
    "b = h*(c/lam1)/(k*t)\n",
    "a = h*(c/lam2)/(k*t)"
   ]
  },
  {
   "cell_type": "code",
   "execution_count": 52,
   "metadata": {},
   "outputs": [
    {
     "data": {
      "text/plain": [
       "0.7886360406075116"
      ]
     },
     "execution_count": 52,
     "metadata": {},
     "output_type": "execute_result"
    }
   ],
   "source": [
    "\n",
    "def numerador(x):\n",
    "    return (x**3)/(np.exp(x)-1)\n",
    "\n",
    "Itotal = 0\n",
    "for i in range(20):\n",
    "    Itotal += 0.5*(b-a)*pesos[i]*numerador(raices[i]*(b-a)/2 + (b+a)/2)\n",
    "    \n",
    "Itotal"
   ]
  },
  {
   "cell_type": "code",
   "execution_count": 54,
   "metadata": {},
   "outputs": [
    {
     "data": {
      "text/plain": [
       "6.49393940221959"
      ]
     },
     "execution_count": 54,
     "metadata": {},
     "output_type": "execute_result"
    }
   ],
   "source": [
    "def denominador(x):\n",
    "    return (x**3)/(1-np.exp(-x))\n",
    "\n",
    "sum = 0\n",
    "for i in range(20):\n",
    "       sum += (pesosL[i]*denominador(raicesL[i]))\n",
    "sum"
   ]
  },
  {
   "cell_type": "code",
   "execution_count": 57,
   "metadata": {},
   "outputs": [
    {
     "data": {
      "text/plain": [
       "12.144185397510183"
      ]
     },
     "execution_count": 57,
     "metadata": {},
     "output_type": "execute_result"
    }
   ],
   "source": [
    "a = Itotal/sum\n",
    "porcentaje = a*100\n",
    "porcentaje"
   ]
  },
  {
   "cell_type": "markdown",
   "metadata": {},
   "source": [
    "Bogotá tiene un menor porcentaje de ultravioleta por diferentes razones: 1- El clima de bogota puede generar dificultad de la entrada de los rayos UV. 2- Es posible que la capa de ozono en zona de Bogtá sea mayor por lo que llegan menores rayos UV. 3- La altura puede generar que los rayos no se queden tan atrapados en la atmosfera y salgan más rápido hacia fuera de ella."
   ]
  },
  {
   "cell_type": "markdown",
   "metadata": {},
   "source": [
    "Punto 25"
   ]
  },
  {
   "cell_type": "code",
   "execution_count": 65,
   "metadata": {},
   "outputs": [
    {
     "data": {
      "image/png": "[encoded data removed]",
      "text/latex": [
       "$\\displaystyle \\frac{x^{2}}{2} - 2 x + 1$"
      ],
      "text/plain": [
       " 2          \n",
       "x           \n",
       "── - 2⋅x + 1\n",
       "2           "
      ]
     },
     "execution_count": 65,
     "metadata": {},
     "output_type": "execute_result"
    }
   ],
   "source": [
    "def laguerrrepol(x,n):\n",
    "    a= sym.exp(x)\n",
    "    b= math.factorial(n)\n",
    "    fun= ((x**n)*sym.exp(-x))\n",
    "    c=sym.diff(fun,x,2)\n",
    "    return ((a/b)*c)\n",
    "\n",
    "    \n",
    "x= sym.Symbol('x')\n",
    "x=laguerrrepol(x,2)\n",
    "\n",
    "x"
   ]
  },
  {
   "cell_type": "code",
   "execution_count": 66,
   "metadata": {},
   "outputs": [
    {
     "data": {
      "image/png": "[encoded data removed]",
      "text/latex": [
       "$\\displaystyle \\left\\{ 2 - \\sqrt{2} : 1, \\  \\sqrt{2} + 2 : 1\\right\\}$"
      ],
      "text/plain": [
       "{2 - √2: 1, √2 + 2: 1}"
      ]
     },
     "execution_count": 66,
     "metadata": {},
     "output_type": "execute_result"
    }
   ],
   "source": [
    "y=sym.roots(x)\n",
    "y"
   ]
  },
  {
   "cell_type": "code",
   "execution_count": 69,
   "metadata": {},
   "outputs": [
    {
     "data": {
      "image/png": "[encoded data removed]",
      "text/latex": [
       "$\\displaystyle \\left( 0.853553390593273, \\  0.146446609406727\\right)$"
      ],
      "text/plain": [
       "(0.8535533905932728, 0.14644660940672702)"
      ]
     },
     "execution_count": 69,
     "metadata": {},
     "output_type": "execute_result"
    }
   ],
   "source": [
    "x1 = 2-np.sqrt(2)\n",
    "x2 = 2+np.sqrt(2)\n",
    "\n",
    "def w1(x):\n",
    "    return (x-x2)/(x1-x2)\n",
    "def w2(x):\n",
    "    return (x-x1)/(x2-x1)\n",
    "\n",
    "raicesL,pesosL = np.polynomial.laguerre.laggauss(10)\n",
    "\n",
    "w01 = 0\n",
    "for i in range(10):\n",
    "       w01 += (pesosL[i]*w1(raicesL[i]))\n",
    "\n",
    "w02 = 0\n",
    "for i in range(10):\n",
    "       w02 += (pesosL[i]*w2(raicesL[i]))\n",
    "\n",
    "w01,w02"
   ]
  },
  {
   "cell_type": "code",
   "execution_count": 70,
   "metadata": {},
   "outputs": [
    {
     "data": {
      "image/png": "[encoded data removed]",
      "text/latex": [
       "$\\displaystyle 6.00000000000003$"
      ],
      "text/plain": [
       "6.00000000000003"
      ]
     },
     "execution_count": 70,
     "metadata": {},
     "output_type": "execute_result"
    }
   ],
   "source": [
    "def integral(x):\n",
    "    return x**3\n",
    "\n",
    "inte = w01*integral(x1) + w02*integral(x2)\n",
    "inte"
   ]
  },
  {
   "cell_type": "code",
   "execution_count": null,
   "metadata": {},
   "outputs": [],
   "source": []
  }
 ],
 "metadata": {
  "kernelspec": {
   "display_name": "Python 3",
   "language": "python",
   "name": "python3"
  },
  "language_info": {
   "codemirror_mode": {
    "name": "ipython",
    "version": 3
   },
   "file_extension": ".py",
   "mimetype": "text/x-python",
   "name": "python",
   "nbconvert_exporter": "python",
   "pygments_lexer": "ipython3",
   "version": "3.11.3"
  },
  "orig_nbformat": 4
 },
 "nbformat": 4,
 "nbformat_minor": 2
}
